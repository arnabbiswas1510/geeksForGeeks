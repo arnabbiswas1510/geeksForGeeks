{
 "cells": [
  {
   "cell_type": "markdown",
   "metadata": {},
   "source": [
    "#SEARCHING  \n",
    "##Notes from lecture  \n",
    "1. In binary search do mid = l+(l+h)/2 instead of mid = (l+h)/2  \n",
    "The latter may cause overflow in case of large numbers  \n",
    "2. Base case is when low>high (no element found)  \n",
    "3. The trigger word for searching algorithms is if the array is sorted.  "
   ]
  },
  {
   "cell_type": "markdown",
   "metadata": {},
   "source": [
    "##Searching an element in a sorted array\n",
    "\n",
    "Given a sorted array arr[] of N integers and a number K is given. The task is to check if the element K is present in the array or not.  \n",
    "\n",
    "##MEDIUM"
   ]
  },
  {
   "cell_type": "code",
   "execution_count": 1,
   "metadata": {},
   "outputs": [
    {
     "output_type": "stream",
     "name": "stdout",
     "text": "Index of searched element 2\n"
    }
   ],
   "source": [
    "def binarySearch(arr, l, r, K):\n",
    "    if r>=l:\n",
    "        mid = l + (r-l)//2\n",
    "        if arr[mid] == K:\n",
    "            return mid\n",
    "        elif K < arr[mid]:\n",
    "            return binarySearch(arr,l,mid-1,K)      # IMP - remmeber mid-1 and mid+1 in the recursive calls\n",
    "        else:\n",
    "            return binarySearch(arr,mid+1,r,K)\n",
    "    else:\n",
    "        return -1\n",
    "\n",
    "\n",
    "def searchInSorted(arr, n,K):\n",
    "    return binarySearch(arr,0,n-1,K)    #IMP - pass in n-1 as size here or indexerror if \n",
    "\n",
    "\n",
    "arr = [1,2,3,4,6]\n",
    "n = len(arr)\n",
    "K=3\n",
    "print(\"Index of searched element\", searchInSorted(arr,n,K))"
   ]
  },
  {
   "cell_type": "markdown",
   "metadata": {},
   "source": [
    "##Count 1’s in a sorted binary array\n",
    "\n",
    "Given a binary array sorted in non-increasing order, count the number of 1’s in it.\n",
    "\n",
    "Note: The checks in this algo are different. Another trivial solution is to find any 1 and then count after till the 0.  \n",
    "But this deteriorates to n and you want log\n",
    "\n",
    "###MEDIUM"
   ]
  },
  {
   "cell_type": "code",
   "execution_count": 1,
   "metadata": {},
   "outputs": [
    {
     "output_type": "stream",
     "name": "stdout",
     "text": "Number of ones: 7\n"
    }
   ],
   "source": [
    "def findPivot(arr, l, r):\n",
    "    if r>=l:\n",
    "        mid = l + (r-l)//2\n",
    "        if arr[mid] == 1 and (mid==r or arr[mid+1] == 0):  #IMP - Remember if mid == r is the boundary\n",
    "            # condition, you dont want arr[mid-1]==0 since 0s are only going to be on right of 1\n",
    "            return mid\n",
    "        elif 0 == arr[mid]:\n",
    "            return findPivot(arr,l,mid-1)      # IMP - remmeber mid-1 and mid+1 in the recursive calls\n",
    "        else:\n",
    "            return findPivot(arr,mid+1,r)\n",
    "    else:\n",
    "        return -1\n",
    "\n",
    "\n",
    "def countOnes(A,N):\n",
    "    return findPivot(A,0,N-1)+1    #IMP - pass in n-1 as size here\n",
    "\n",
    "\n",
    "A = [1, 1, 1, 1, 1, 1, 1]\n",
    "N = len(A)\n",
    "print(\"Number of ones:\", countOnes(A,N))"
   ]
  },
  {
   "cell_type": "markdown",
   "metadata": {},
   "source": [
    "##Square root of an integer\n",
    "\n",
    "Given an integer x, find it’s square root. If x is not a perfect square, then return floor(√x).\n",
    "\n",
    "A trivial approach is to loop from 1 to x and while (i*i <= x) return i-1  \n",
    "This approach is O(√x)  \n",
    "But the below approach is O(log n) which is better\n",
    "\n",
    "##MEDIUM\n"
   ]
  },
  {
   "cell_type": "code",
   "execution_count": 1,
   "metadata": {},
   "outputs": [
    {
     "output_type": "stream",
     "name": "stdout",
     "text": "3\n"
    }
   ],
   "source": [
    "# Returns floor of square root of x          \n",
    "def floorSqrt(x) : \n",
    "  \n",
    "    # Base cases \n",
    "    if (x == 0 or x == 1) : \n",
    "        return x \n",
    "   \n",
    "    start = 1\n",
    "    end = x    \n",
    "    while (start <= end) : \n",
    "        mid = (start + end) // 2\n",
    "          \n",
    "        # If x is a perfect square \n",
    "        if (mid*mid == x) : \n",
    "            return mid \n",
    "        # Since we need floor, we update  \n",
    "        # answer when mid*mid is smaller \n",
    "        # than x, and move closer to sqrt(x) \n",
    "        if (mid * mid < x) : \n",
    "            start = mid + 1\n",
    "            ans = mid #floor\n",
    "              \n",
    "        else : \n",
    "            \n",
    "            end = mid-1\n",
    "              \n",
    "    return ans #Note the technique to return the floor here. Think how \n",
    "    #you would do this in the recursive version \n",
    "  \n",
    "# driver code     \n",
    "x = 11\n",
    "print(floorSqrt(x))       "
   ]
  },
  {
   "cell_type": "markdown",
   "metadata": {},
   "source": [
    "##Majority Element\n",
    "\n",
    "Given an array A of N elements. Find the majority element in the array. A majority element in an array A of size N is an element that appears more than N/2 times in the array.  \n",
    "\n",
    "Following are the algorithms that can be used to solve this problem:  \n",
    "1. Nested loops. Break when you find the majority. O(n^2)  \n",
    "2. Binary Search Tree. Balanced - nlogn, unbalanced n^2  \n",
    "3. Moore's voting (Best) O(n)  \n",
    "4. Hashing. O(n) but needs O(n) extra space  \n",
    "5. Sort and scan. nlogn  \n",
    "\n",
    "\n",
    "###Moore's voting algorithm:  \n",
    "1. Always returns the majority element if it's present (since majority is >n/2 and hence that is guaranteed to have the highest consecutive count)    \n",
    "2. Always returns an element but it's not guaranteed that its the majority element, hence you need to verify  \n",
    "3. The count returned by the algorithm is not the true count of that element  \n",
    "\n",
    "##MEDIUM"
   ]
  },
  {
   "cell_type": "code",
   "execution_count": null,
   "metadata": {},
   "outputs": [],
   "source": [
    "# Moore's voting algorithm\n",
    "def findCandidate(arr, N):   #Moore's voting algorithm\n",
    "    count=1\n",
    "    majInd=0\n",
    "    for i in range(1,N):\n",
    "        if arr[i] == arr[i-1]:\n",
    "            count+=1\n",
    "        else:\n",
    "            count-=1\n",
    "            #ind=i      Dont do this here since inx is to be reset only when count is 0\n",
    "        if count==0:\n",
    "            majInd=i\n",
    "            count=1    #Dont forget this\n",
    "    return arr[majInd]\n",
    "\n",
    "\n",
    "def isMajority(arr, N, x):  #This is necessary since candidate is not guaranteed to be majority\n",
    "    count=0\n",
    "    for i in range(N):\n",
    "        if arr[i] == x:\n",
    "            count+=1\n",
    "        if count > N//2:\n",
    "            return True\n",
    "    return False\n",
    "\n",
    "\n",
    "def printMajority(arr, N):\n",
    "    x = findCandidate(arr, N)\n",
    "    if isMajority(arr, N, x):\n",
    "        print(\"Majority is \", x)\n",
    "    else:\n",
    "        print(\"No majority found\")\n",
    "\n",
    "\n",
    "arr = [1, 3, 3, 1, 2, 3]\n",
    "n = len(arr)\n",
    "printMajority(arr,n)"
   ]
  },
  {
   "cell_type": "markdown",
   "metadata": {},
   "source": [
    "##Left Index\n",
    "\n",
    "Given a sorted array arr of N positive integers (elements may be repeated) and a number x. The task is to find the leftmost index of x in the array arr.\n",
    "\n",
    "Note: Same as the findPivot algo. Note that the first condition needs to be:\n",
    "\n",
    "```\n",
    "        if( ( mid == 0 || x > arr[mid-1]) && arr[mid] == x)   \n",
    "            return mid;  #Left index, note mid == 0  \n",
    "        #and  \n",
    "        (( mid == n-1 || x < arr[mid+1]) && arr[mid] == x)   \n",
    "            return mid  # For right index   \n",
    "```\n"
   ]
  },
  {
   "cell_type": "markdown",
   "metadata": {},
   "source": [
    "##Peak element .   \n",
    "Given an array A of N integers. The task is to find a peak element in it in O( log N ) .  \n",
    "An array element is peak if it is not smaller than its neighbours. For corner elements, we need to consider only one neighbour.  \n",
    "Note: There may be multiple peak element possible, in that case you may return any valid index.  \n",
    "\n",
    "##MEDIUM"
   ]
  },
  {
   "cell_type": "code",
   "execution_count": 1,
   "metadata": {},
   "outputs": [
    {
     "output_type": "stream",
     "name": "stdout",
     "text": "Peak: 20\n"
    }
   ],
   "source": [
    "def findPeek(arr, l, r,n):\n",
    "    if r>=l:\n",
    "        mid = l + (r-l)//2\n",
    "        # if (arr[mid] > arr[mid-1] and arr[mid] >arr[mid+1]) or\\\n",
    "        #         (arr[mid] == 0 and arr[mid] > arr[mid+1]) or\\\n",
    "        #         (arr[mid] ==n and arr[mid] > arr[mid-1]):\n",
    "        #     return mid\n",
    "        \n",
    "        # The above 3 condition blocks can be optimized to 2 below\n",
    "        if (arr[mid] == 0 or arr[mid] > arr[mid+1]) and\\\n",
    "                (arr[mid] ==n or arr[mid] > arr[mid-1]):\n",
    "            return mid\n",
    "        elif mid > 0 and arr[mid-1] > arr[mid]:  #Note the mid > 0 condition, its required\n",
    "            return findPeek(arr, l, mid - 1,n)\n",
    "        else:\n",
    "            return findPeek(arr, mid + 1, r,n)\n",
    "    else:\n",
    "        return -1\n",
    "\n",
    "\n",
    "def search(A, N):\n",
    "    return A[findPeek(A, 0, N - 1, N-1)]    #IMP - pass in n-1 as size here\n",
    "\n",
    "\n",
    "A = [1, 3, 20, 4, 1, 0]\n",
    "N = len(A)\n",
    "print(\"Peak:\", search(A, N))"
   ]
  },
  {
   "cell_type": "markdown",
   "metadata": {},
   "source": [
    "##Floor in a Sorted Array . \n",
    "Given a sorted array arr[] of size N without duplicates, and given a value x. Floor of x is defined as the largest element K in arr[] such that K is smaller than or equal to x. Find the index of K(0-based indexing).  \n",
    "\n",
    "##MEDIUM - O(log n) . \n",
    "Naive approach is to linear search, which is O(n) and not shown\n"
   ]
  },
  {
   "cell_type": "code",
   "execution_count": 2,
   "metadata": {
    "tags": []
   },
   "outputs": [
    {
     "output_type": "stream",
     "name": "stdout",
     "text": "Floor of 7 is 6\n"
    }
   ],
   "source": [
    "def floorSearch(arr, low, high, x):\n",
    "    if low > high:\n",
    "        return -1\n",
    "    if x >= arr[high]:\n",
    "        return high\n",
    "    mid = low + int((high - low) / 2)\n",
    "    if x == arr[mid]:\n",
    "        return mid\n",
    "    if mid > 0 and arr[mid] > x > arr[mid - 1]:  # mid >0 is important boundary condition here\n",
    "        # also notice the chained comaprison above\n",
    "        return mid - 1\n",
    "    if x < arr[mid]:\n",
    "        return floorSearch(arr, low, mid-1, x)\n",
    "    return floorSearch(arr,mid+1,high,x) # Note no else was needed here\n",
    "\n",
    "\n",
    "arr = [1, 2, 4, 6, 10, 12, 14]\n",
    "n = len(arr)\n",
    "x = 7\n",
    "index = floorSearch(arr, 0, n - 1, x)\n",
    "\n",
    "if (index == -1):\n",
    "    print(\"Floor of\", x, \"doesn't exist \\\n",
    "          in array \", end=\"\")\n",
    "else:\n",
    "    print(\"Floor of\", x, \"is\", arr[index])"
   ]
  },
  {
   "cell_type": "markdown",
   "metadata": {},
   "source": [
    "##Minimum Number in a sorted rotated array \n",
    "Given an array of distinct elements which was initially sorted. This array is rotated at some unknown point. The task is to find the minimum element in the given sorted and rotated array.   \n",
    "##MEDIUM. Similar to prev problem but with different checks as commented"
   ]
  },
  {
   "cell_type": "code",
   "execution_count": 3,
   "metadata": {},
   "outputs": [
    {
     "output_type": "stream",
     "name": "stdout",
     "text": [
      "Min number is 1\n"
     ]
    }
   ],
   "source": [
    "def minNumber(arr, low, high):\n",
    "    if low > high:\n",
    "        return 0\n",
    "    if low == high: #rememeber this boundary condition\n",
    "        return low\n",
    "    mid=int((low+high)/2)\n",
    "    if low < mid and arr[mid-1] > arr[mid]: #Then check for mid and mid+1 and set conditions accordingly\n",
    "        return mid #Remember to check for low<mid and why\n",
    "    if high > mid and arr[mid] > arr[mid+1]:\n",
    "        return mid+1\n",
    "    if arr[low] < arr[mid]:\n",
    "        return minNumber(arr,mid+1,high)\n",
    "    return minNumber(arr,low,mid-1) # Note no else was needed here\n",
    "\n",
    "arr = [4, 6, 10, 12, 14, 1, 2]\n",
    "n = len(arr)\n",
    "index = minNumber(arr, 0, n - 1)\n",
    "print(\"Min number is\", arr[index])"
   ]
  },
  {
   "cell_type": "markdown",
   "metadata": {},
   "source": [
    "##Two Repeated Elements  \n",
    "You are given an array of N+2 integer elements. All elements of the array are in range 1 to N. Also, all elements occur once except two numbers which occur twice. Find the two repeating numbers.  \n",
    "##MEDIUM. Naive solution is O(n^2) where you run nested loops to find the 2 repeated elements. The better solution O(n) is to create a count array but this has extra storage of n. The best solution is no extra storage but this will modify the existing array as shown below. The solution below will also work for n repeated elements"
   ]
  },
  {
   "cell_type": "code",
   "execution_count": 3,
   "metadata": {
    "tags": []
   },
   "outputs": [
    {
     "output_type": "stream",
     "name": "stdout",
     "text": "The repeated elements are: 1 3"
    }
   ],
   "source": [
    "def twoRepeated(arr, N):\n",
    "    print(\"The repeated elements are: \", end=\"\")\n",
    "    for i in range (0,N):\n",
    "        if arr[abs(arr[i])] < 0: #Remember to use abs since you are modifying the array and making values -ve\n",
    "            print(abs(arr[i]),end=\" \")\n",
    "        else:\n",
    "            arr[abs(arr[i])] = -1*arr[abs(arr[i])]\n",
    "\n",
    "\n",
    "arr = [1,2,1,3,4,3]\n",
    "n = len(arr)\n",
    "twoRepeated(arr, n)"
   ]
  },
  {
   "cell_type": "markdown",
   "metadata": {},
   "source": [
    "##Roof Top\n",
    "You are given heights of consecutive buildings. You can move from the roof of a building to the roof of next adjacent building. You need to find the maximum number of consecutive steps you can put forward such that you gain an increase in altitude with each step."
   ]
  },
  {
   "cell_type": "code",
   "execution_count": 4,
   "metadata": {
    "tags": []
   },
   "outputs": [
    {
     "output_type": "stream",
     "name": "stdout",
     "text": "Max steps :  3\n"
    }
   ],
   "source": [
    "def maxStep(A, N):\n",
    "    maximum=0\n",
    "    cnt=0\n",
    "    for i in range(N-1):\n",
    "        if A[i+1] > A[i]:\n",
    "            cnt+=1\n",
    "        else:\n",
    "            maximum=max(maximum,cnt)\n",
    "            cnt=0\n",
    "    return maximum\n",
    "\n",
    "\n",
    "arr = [1,2,1,3,4,5,3]\n",
    "n = len(arr)\n",
    "print(\"Max steps : \",maxStep(arr, n))"
   ]
  },
  {
   "cell_type": "markdown",
   "metadata": {},
   "source": [
    "##Maximum Water Between Two Buildings  \n",
    "Given an integer array representing the heights of N buildings, the task is to delete N-2 buildings such that the water that can be trapped between the remaining two building is maximum.  \n",
    "**Note:** The total water trapped between two buildings is gap between them (number of buildings removed) multiplied by height of the smaller building.\n",
    "##MEDIUM.  \n",
    "But pay attention to the logic below. The Naive n^2 is to run nested loops and compute the max water. The better approach is to create a list of {index,value} pairs. Then sort this list (logn) based on value. Then follow the logic below. But this logic can be followed without the sort and hence the best solution below is n"
   ]
  },
  {
   "cell_type": "code",
   "execution_count": 2,
   "metadata": {},
   "outputs": [
    {
     "output_type": "stream",
     "name": "stdout",
     "text": [
      "Max water between two buildings  8\n"
     ]
    }
   ],
   "source": [
    "def maxWater(height, n):\n",
    "    maximum=0\n",
    "    i=0\n",
    "    while i<n:\n",
    "        if height[i] < height[n]:\n",
    "            maximum = max(height[i]*(n-i-1),maximum) #Remember to do n-i-1 since its 1 less for the distance\n",
    "            i+=1\n",
    "        elif height[n] < height[i]:\n",
    "            maximum = max(height[n]*(n-i-1),maximum)\n",
    "            n-=1\n",
    "        else:\n",
    "            maximum = max(height[i] * (n - i-1), maximum)\n",
    "            i += 1\n",
    "            n -= 1\n",
    "    return maximum\n",
    "\n",
    "arr = [2, 1, 3, 4, 6, 5]\n",
    "n = len(arr)\n",
    "print(\"Max water between two buildings \", maxWater(arr, n-1))"
   ]
  },
  {
   "source": [
    "##Find the smallest positive number missing from an unsorted array. \n",
    "You are given an unsorted array with both positive and negative elements. You have to find the smallest positive number missing from the array in O(n) time using constant extra space. You can modify the original array.\n",
    "##MEDIUM. \n",
    "The segregation logic is cool and used in Quicksort. The find itself is given away with the hint that you can modify the input "
   ],
   "cell_type": "markdown",
   "metadata": {}
  },
  {
   "cell_type": "code",
   "execution_count": 1,
   "metadata": {},
   "outputs": [
    {
     "output_type": "stream",
     "name": "stdout",
     "text": [
      "Missing Number  1\n"
     ]
    }
   ],
   "source": [
    "def segregate(arr, n):\n",
    "    cnt=0\n",
    "    for i in range(n):\n",
    "        if arr[i] <0:\n",
    "            arr[i], arr[cnt] = arr[cnt], arr[i]\n",
    "            cnt +=1\n",
    "    return cnt\n",
    "\n",
    "#Set all indexed positions for values as negative and return the first positive index position\n",
    "def findMissing(arr, n):\n",
    "    for i in range(n):\n",
    "        if abs(arr[i]) < n and arr[abs(arr[i])] > 0: #Remember to also stay within the size of the array\n",
    "            #Order is important in short circuiting and and/or are short circuit operators\n",
    "            arr[abs(arr[i])] = -arr[abs(arr[i])]\n",
    "    for i in range(n):\n",
    "        if arr[i] >= 0:\n",
    "            return i\n",
    "    return n\n",
    "            \n",
    "arr = [-5, 0, 10, 2, -10, -20]\n",
    "n = len(arr)\n",
    "shift=segregate(arr, n)\n",
    "print(\"Missing Number \", findMissing(arr[shift:],n-shift))"
   ]
  },
  {
   "source": [
    "## Count of only repeated element in a sorted array of consecutive elements. \n",
    "Given a sorted array of consecutive elements. The array has only one element repeated many times. The task is to find length of the sequence of repeated element.\n",
    "\n",
    "Expected Time Complexity : Less than 0(n)  \n",
    "## MEDIUM. Do binary search because its less than O(n) and single repeated element. Else do mutating array.  "
   ],
   "cell_type": "markdown",
   "metadata": {}
  },
  {
   "cell_type": "code",
   "execution_count": 3,
   "metadata": {},
   "outputs": [
    {
     "output_type": "stream",
     "name": "stdout",
     "text": [
      "Repeated element is 4 , it appears 3 times\n"
     ]
    }
   ],
   "source": [
    "# Assumptions : vector a is sorted,  \n",
    "# max-difference of two adjacent \n",
    "# elements is 1 \n",
    "def sequence(a): \n",
    "    if (len(a) == 0): \n",
    "        return [0, 0] \n",
    "  \n",
    "    s = 0\n",
    "    e = len(a) - 1\n",
    "    while (s < e): \n",
    "        m = (s + e) // 2\n",
    "  \n",
    "        # if a[m] = m + a[0], there is no \n",
    "        # repeating character in [s..m] \n",
    "        if (a[m] >= m + a[0]): \n",
    "            s = m + 1\n",
    "  \n",
    "        # if a[m] < m + a[0], there is a \n",
    "        # repeating character in [s..m] \n",
    "        else: \n",
    "            e = m-1 \n",
    "    #Note that the count o repeating elements is len-highest element\n",
    "    return [a[s], len(a) - ( \n",
    "                a[len(a) - 1] - a[0])] \n",
    "  \n",
    "# Driver code \n",
    "p = sequence([1, 2, 3, 4, 4, 4, 5, 6]) \n",
    "print(\"Repeated element is\", p[0],  \n",
    "             \", it appears\", p[1], \"times\") "
   ]
  },
  {
   "cell_type": "code",
   "execution_count": null,
   "metadata": {},
   "outputs": [],
   "source": []
  }
 ],
 "metadata": {
  "language_info": {
   "name": "python",
   "codemirror_mode": {
    "name": "ipython",
    "version": 3
   },
   "version": "3.7.6-final"
  },
  "orig_nbformat": 2,
  "file_extension": ".py",
  "mimetype": "text/x-python",
  "name": "python",
  "npconvert_exporter": "python",
  "pygments_lexer": "ipython3",
  "version": 3,
  "kernelspec": {
   "name": "python3",
   "display_name": "Python 3",
   "language": "python"
  }
 },
 "nbformat": 4,
 "nbformat_minor": 2
}